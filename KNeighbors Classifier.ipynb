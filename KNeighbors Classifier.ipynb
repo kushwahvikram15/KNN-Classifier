{
 "cells": [
  {
   "cell_type": "code",
   "execution_count": 1,
   "metadata": {},
   "outputs": [],
   "source": [
    "import pandas as pd\n",
    "import matplotlib.pyplot as plt\n",
    "import numpy as np\n",
    "from sklearn.preprocessing import StandardScaler\n",
    "import seaborn as sns\n",
    "from sklearn.model_selection import train_test_split\n",
    "from sklearn.neighbors import KNeighborsClassifier\n",
    "from sklearn.metrics import accuracy_score"
   ]
  },
  {
   "cell_type": "code",
   "execution_count": 2,
   "metadata": {},
   "outputs": [
    {
     "data": {
      "text/html": [
       "<div>\n",
       "<style scoped>\n",
       "    .dataframe tbody tr th:only-of-type {\n",
       "        vertical-align: middle;\n",
       "    }\n",
       "\n",
       "    .dataframe tbody tr th {\n",
       "        vertical-align: top;\n",
       "    }\n",
       "\n",
       "    .dataframe thead th {\n",
       "        text-align: right;\n",
       "    }\n",
       "</style>\n",
       "<table border=\"1\" class=\"dataframe\">\n",
       "  <thead>\n",
       "    <tr style=\"text-align: right;\">\n",
       "      <th></th>\n",
       "      <th>region</th>\n",
       "      <th>tenure</th>\n",
       "      <th>age</th>\n",
       "      <th>marital</th>\n",
       "      <th>address</th>\n",
       "      <th>income</th>\n",
       "      <th>ed</th>\n",
       "      <th>employ</th>\n",
       "      <th>retire</th>\n",
       "      <th>gender</th>\n",
       "      <th>reside</th>\n",
       "      <th>custcat</th>\n",
       "    </tr>\n",
       "  </thead>\n",
       "  <tbody>\n",
       "    <tr>\n",
       "      <th>0</th>\n",
       "      <td>2</td>\n",
       "      <td>13</td>\n",
       "      <td>44</td>\n",
       "      <td>1</td>\n",
       "      <td>9</td>\n",
       "      <td>64.0</td>\n",
       "      <td>4</td>\n",
       "      <td>5</td>\n",
       "      <td>0.0</td>\n",
       "      <td>0</td>\n",
       "      <td>2</td>\n",
       "      <td>1</td>\n",
       "    </tr>\n",
       "    <tr>\n",
       "      <th>1</th>\n",
       "      <td>3</td>\n",
       "      <td>11</td>\n",
       "      <td>33</td>\n",
       "      <td>1</td>\n",
       "      <td>7</td>\n",
       "      <td>136.0</td>\n",
       "      <td>5</td>\n",
       "      <td>5</td>\n",
       "      <td>0.0</td>\n",
       "      <td>0</td>\n",
       "      <td>6</td>\n",
       "      <td>4</td>\n",
       "    </tr>\n",
       "    <tr>\n",
       "      <th>2</th>\n",
       "      <td>3</td>\n",
       "      <td>68</td>\n",
       "      <td>52</td>\n",
       "      <td>1</td>\n",
       "      <td>24</td>\n",
       "      <td>116.0</td>\n",
       "      <td>1</td>\n",
       "      <td>29</td>\n",
       "      <td>0.0</td>\n",
       "      <td>1</td>\n",
       "      <td>2</td>\n",
       "      <td>3</td>\n",
       "    </tr>\n",
       "    <tr>\n",
       "      <th>3</th>\n",
       "      <td>2</td>\n",
       "      <td>33</td>\n",
       "      <td>33</td>\n",
       "      <td>0</td>\n",
       "      <td>12</td>\n",
       "      <td>33.0</td>\n",
       "      <td>2</td>\n",
       "      <td>0</td>\n",
       "      <td>0.0</td>\n",
       "      <td>1</td>\n",
       "      <td>1</td>\n",
       "      <td>1</td>\n",
       "    </tr>\n",
       "    <tr>\n",
       "      <th>4</th>\n",
       "      <td>2</td>\n",
       "      <td>23</td>\n",
       "      <td>30</td>\n",
       "      <td>1</td>\n",
       "      <td>9</td>\n",
       "      <td>30.0</td>\n",
       "      <td>1</td>\n",
       "      <td>2</td>\n",
       "      <td>0.0</td>\n",
       "      <td>0</td>\n",
       "      <td>4</td>\n",
       "      <td>3</td>\n",
       "    </tr>\n",
       "  </tbody>\n",
       "</table>\n",
       "</div>"
      ],
      "text/plain": [
       "   region  tenure  age  marital  address  income  ed  employ  retire  gender  \\\n",
       "0       2      13   44        1        9    64.0   4       5     0.0       0   \n",
       "1       3      11   33        1        7   136.0   5       5     0.0       0   \n",
       "2       3      68   52        1       24   116.0   1      29     0.0       1   \n",
       "3       2      33   33        0       12    33.0   2       0     0.0       1   \n",
       "4       2      23   30        1        9    30.0   1       2     0.0       0   \n",
       "\n",
       "   reside  custcat  \n",
       "0       2        1  \n",
       "1       6        4  \n",
       "2       2        3  \n",
       "3       1        1  \n",
       "4       4        3  "
      ]
     },
     "execution_count": 2,
     "metadata": {},
     "output_type": "execute_result"
    }
   ],
   "source": [
    "df = pd.read_csv('teleCust1000t.csv')\n",
    "df.head()"
   ]
  },
  {
   "cell_type": "code",
   "execution_count": 3,
   "metadata": {},
   "outputs": [
    {
     "data": {
      "text/html": [
       "<div>\n",
       "<style scoped>\n",
       "    .dataframe tbody tr th:only-of-type {\n",
       "        vertical-align: middle;\n",
       "    }\n",
       "\n",
       "    .dataframe tbody tr th {\n",
       "        vertical-align: top;\n",
       "    }\n",
       "\n",
       "    .dataframe thead th {\n",
       "        text-align: right;\n",
       "    }\n",
       "</style>\n",
       "<table border=\"1\" class=\"dataframe\">\n",
       "  <thead>\n",
       "    <tr style=\"text-align: right;\">\n",
       "      <th></th>\n",
       "      <th>region</th>\n",
       "      <th>tenure</th>\n",
       "      <th>age</th>\n",
       "      <th>marital</th>\n",
       "      <th>address</th>\n",
       "      <th>income</th>\n",
       "      <th>ed</th>\n",
       "      <th>employ</th>\n",
       "      <th>retire</th>\n",
       "      <th>gender</th>\n",
       "      <th>reside</th>\n",
       "      <th>custcat</th>\n",
       "    </tr>\n",
       "  </thead>\n",
       "  <tbody>\n",
       "    <tr>\n",
       "      <th>count</th>\n",
       "      <td>1000.0000</td>\n",
       "      <td>1000.000000</td>\n",
       "      <td>1000.000000</td>\n",
       "      <td>1000.000000</td>\n",
       "      <td>1000.000000</td>\n",
       "      <td>1000.000000</td>\n",
       "      <td>1000.000000</td>\n",
       "      <td>1000.000000</td>\n",
       "      <td>1000.000000</td>\n",
       "      <td>1000.000000</td>\n",
       "      <td>1000.000000</td>\n",
       "      <td>1000.000000</td>\n",
       "    </tr>\n",
       "    <tr>\n",
       "      <th>mean</th>\n",
       "      <td>2.0220</td>\n",
       "      <td>35.526000</td>\n",
       "      <td>41.684000</td>\n",
       "      <td>0.495000</td>\n",
       "      <td>11.551000</td>\n",
       "      <td>77.535000</td>\n",
       "      <td>2.671000</td>\n",
       "      <td>10.987000</td>\n",
       "      <td>0.047000</td>\n",
       "      <td>0.517000</td>\n",
       "      <td>2.331000</td>\n",
       "      <td>2.487000</td>\n",
       "    </tr>\n",
       "    <tr>\n",
       "      <th>std</th>\n",
       "      <td>0.8162</td>\n",
       "      <td>21.359812</td>\n",
       "      <td>12.558816</td>\n",
       "      <td>0.500225</td>\n",
       "      <td>10.086681</td>\n",
       "      <td>107.044165</td>\n",
       "      <td>1.222397</td>\n",
       "      <td>10.082087</td>\n",
       "      <td>0.211745</td>\n",
       "      <td>0.499961</td>\n",
       "      <td>1.435793</td>\n",
       "      <td>1.120306</td>\n",
       "    </tr>\n",
       "    <tr>\n",
       "      <th>min</th>\n",
       "      <td>1.0000</td>\n",
       "      <td>1.000000</td>\n",
       "      <td>18.000000</td>\n",
       "      <td>0.000000</td>\n",
       "      <td>0.000000</td>\n",
       "      <td>9.000000</td>\n",
       "      <td>1.000000</td>\n",
       "      <td>0.000000</td>\n",
       "      <td>0.000000</td>\n",
       "      <td>0.000000</td>\n",
       "      <td>1.000000</td>\n",
       "      <td>1.000000</td>\n",
       "    </tr>\n",
       "    <tr>\n",
       "      <th>25%</th>\n",
       "      <td>1.0000</td>\n",
       "      <td>17.000000</td>\n",
       "      <td>32.000000</td>\n",
       "      <td>0.000000</td>\n",
       "      <td>3.000000</td>\n",
       "      <td>29.000000</td>\n",
       "      <td>2.000000</td>\n",
       "      <td>3.000000</td>\n",
       "      <td>0.000000</td>\n",
       "      <td>0.000000</td>\n",
       "      <td>1.000000</td>\n",
       "      <td>1.000000</td>\n",
       "    </tr>\n",
       "    <tr>\n",
       "      <th>50%</th>\n",
       "      <td>2.0000</td>\n",
       "      <td>34.000000</td>\n",
       "      <td>40.000000</td>\n",
       "      <td>0.000000</td>\n",
       "      <td>9.000000</td>\n",
       "      <td>47.000000</td>\n",
       "      <td>3.000000</td>\n",
       "      <td>8.000000</td>\n",
       "      <td>0.000000</td>\n",
       "      <td>1.000000</td>\n",
       "      <td>2.000000</td>\n",
       "      <td>3.000000</td>\n",
       "    </tr>\n",
       "    <tr>\n",
       "      <th>75%</th>\n",
       "      <td>3.0000</td>\n",
       "      <td>54.000000</td>\n",
       "      <td>51.000000</td>\n",
       "      <td>1.000000</td>\n",
       "      <td>18.000000</td>\n",
       "      <td>83.000000</td>\n",
       "      <td>4.000000</td>\n",
       "      <td>17.000000</td>\n",
       "      <td>0.000000</td>\n",
       "      <td>1.000000</td>\n",
       "      <td>3.000000</td>\n",
       "      <td>3.000000</td>\n",
       "    </tr>\n",
       "    <tr>\n",
       "      <th>max</th>\n",
       "      <td>3.0000</td>\n",
       "      <td>72.000000</td>\n",
       "      <td>77.000000</td>\n",
       "      <td>1.000000</td>\n",
       "      <td>55.000000</td>\n",
       "      <td>1668.000000</td>\n",
       "      <td>5.000000</td>\n",
       "      <td>47.000000</td>\n",
       "      <td>1.000000</td>\n",
       "      <td>1.000000</td>\n",
       "      <td>8.000000</td>\n",
       "      <td>4.000000</td>\n",
       "    </tr>\n",
       "  </tbody>\n",
       "</table>\n",
       "</div>"
      ],
      "text/plain": [
       "          region       tenure          age      marital      address  \\\n",
       "count  1000.0000  1000.000000  1000.000000  1000.000000  1000.000000   \n",
       "mean      2.0220    35.526000    41.684000     0.495000    11.551000   \n",
       "std       0.8162    21.359812    12.558816     0.500225    10.086681   \n",
       "min       1.0000     1.000000    18.000000     0.000000     0.000000   \n",
       "25%       1.0000    17.000000    32.000000     0.000000     3.000000   \n",
       "50%       2.0000    34.000000    40.000000     0.000000     9.000000   \n",
       "75%       3.0000    54.000000    51.000000     1.000000    18.000000   \n",
       "max       3.0000    72.000000    77.000000     1.000000    55.000000   \n",
       "\n",
       "            income           ed       employ       retire       gender  \\\n",
       "count  1000.000000  1000.000000  1000.000000  1000.000000  1000.000000   \n",
       "mean     77.535000     2.671000    10.987000     0.047000     0.517000   \n",
       "std     107.044165     1.222397    10.082087     0.211745     0.499961   \n",
       "min       9.000000     1.000000     0.000000     0.000000     0.000000   \n",
       "25%      29.000000     2.000000     3.000000     0.000000     0.000000   \n",
       "50%      47.000000     3.000000     8.000000     0.000000     1.000000   \n",
       "75%      83.000000     4.000000    17.000000     0.000000     1.000000   \n",
       "max    1668.000000     5.000000    47.000000     1.000000     1.000000   \n",
       "\n",
       "            reside      custcat  \n",
       "count  1000.000000  1000.000000  \n",
       "mean      2.331000     2.487000  \n",
       "std       1.435793     1.120306  \n",
       "min       1.000000     1.000000  \n",
       "25%       1.000000     1.000000  \n",
       "50%       2.000000     3.000000  \n",
       "75%       3.000000     3.000000  \n",
       "max       8.000000     4.000000  "
      ]
     },
     "execution_count": 3,
     "metadata": {},
     "output_type": "execute_result"
    }
   ],
   "source": [
    "df.describe()"
   ]
  },
  {
   "cell_type": "code",
   "execution_count": 4,
   "metadata": {},
   "outputs": [
    {
     "name": "stdout",
     "output_type": "stream",
     "text": [
      "<class 'pandas.core.frame.DataFrame'>\n",
      "RangeIndex: 1000 entries, 0 to 999\n",
      "Data columns (total 12 columns):\n",
      "region     1000 non-null int64\n",
      "tenure     1000 non-null int64\n",
      "age        1000 non-null int64\n",
      "marital    1000 non-null int64\n",
      "address    1000 non-null int64\n",
      "income     1000 non-null float64\n",
      "ed         1000 non-null int64\n",
      "employ     1000 non-null int64\n",
      "retire     1000 non-null float64\n",
      "gender     1000 non-null int64\n",
      "reside     1000 non-null int64\n",
      "custcat    1000 non-null int64\n",
      "dtypes: float64(2), int64(10)\n",
      "memory usage: 93.8 KB\n"
     ]
    }
   ],
   "source": [
    "df.info()"
   ]
  },
  {
   "cell_type": "code",
   "execution_count": 5,
   "metadata": {},
   "outputs": [
    {
     "data": {
      "text/html": [
       "<div>\n",
       "<style scoped>\n",
       "    .dataframe tbody tr th:only-of-type {\n",
       "        vertical-align: middle;\n",
       "    }\n",
       "\n",
       "    .dataframe tbody tr th {\n",
       "        vertical-align: top;\n",
       "    }\n",
       "\n",
       "    .dataframe thead th {\n",
       "        text-align: right;\n",
       "    }\n",
       "</style>\n",
       "<table border=\"1\" class=\"dataframe\">\n",
       "  <thead>\n",
       "    <tr style=\"text-align: right;\">\n",
       "      <th></th>\n",
       "      <th>region</th>\n",
       "      <th>tenure</th>\n",
       "      <th>age</th>\n",
       "      <th>marital</th>\n",
       "      <th>address</th>\n",
       "      <th>income</th>\n",
       "      <th>ed</th>\n",
       "      <th>employ</th>\n",
       "      <th>retire</th>\n",
       "      <th>gender</th>\n",
       "      <th>reside</th>\n",
       "      <th>custcat</th>\n",
       "    </tr>\n",
       "  </thead>\n",
       "  <tbody>\n",
       "    <tr>\n",
       "      <th>region</th>\n",
       "      <td>1.000000</td>\n",
       "      <td>0.016388</td>\n",
       "      <td>0.015034</td>\n",
       "      <td>-0.080637</td>\n",
       "      <td>0.010320</td>\n",
       "      <td>0.023765</td>\n",
       "      <td>-0.057952</td>\n",
       "      <td>0.016335</td>\n",
       "      <td>0.005595</td>\n",
       "      <td>0.050596</td>\n",
       "      <td>-0.065158</td>\n",
       "      <td>-0.023771</td>\n",
       "    </tr>\n",
       "    <tr>\n",
       "      <th>tenure</th>\n",
       "      <td>0.016388</td>\n",
       "      <td>1.000000</td>\n",
       "      <td>0.490217</td>\n",
       "      <td>0.154171</td>\n",
       "      <td>0.522952</td>\n",
       "      <td>0.242912</td>\n",
       "      <td>-0.109797</td>\n",
       "      <td>0.520288</td>\n",
       "      <td>0.171143</td>\n",
       "      <td>0.023533</td>\n",
       "      <td>-0.036592</td>\n",
       "      <td>0.166691</td>\n",
       "    </tr>\n",
       "    <tr>\n",
       "      <th>age</th>\n",
       "      <td>0.015034</td>\n",
       "      <td>0.490217</td>\n",
       "      <td>1.000000</td>\n",
       "      <td>-0.014433</td>\n",
       "      <td>0.660435</td>\n",
       "      <td>0.327948</td>\n",
       "      <td>-0.154857</td>\n",
       "      <td>0.670047</td>\n",
       "      <td>0.429440</td>\n",
       "      <td>-0.011419</td>\n",
       "      <td>-0.254993</td>\n",
       "      <td>0.056909</td>\n",
       "    </tr>\n",
       "    <tr>\n",
       "      <th>marital</th>\n",
       "      <td>-0.080637</td>\n",
       "      <td>0.154171</td>\n",
       "      <td>-0.014433</td>\n",
       "      <td>1.000000</td>\n",
       "      <td>-0.012051</td>\n",
       "      <td>-0.043984</td>\n",
       "      <td>0.001400</td>\n",
       "      <td>-0.002891</td>\n",
       "      <td>-0.078109</td>\n",
       "      <td>0.008345</td>\n",
       "      <td>0.625999</td>\n",
       "      <td>0.083836</td>\n",
       "    </tr>\n",
       "    <tr>\n",
       "      <th>address</th>\n",
       "      <td>0.010320</td>\n",
       "      <td>0.522952</td>\n",
       "      <td>0.660435</td>\n",
       "      <td>-0.012051</td>\n",
       "      <td>1.000000</td>\n",
       "      <td>0.226781</td>\n",
       "      <td>-0.128330</td>\n",
       "      <td>0.463291</td>\n",
       "      <td>0.292503</td>\n",
       "      <td>0.008363</td>\n",
       "      <td>-0.201645</td>\n",
       "      <td>0.067913</td>\n",
       "    </tr>\n",
       "    <tr>\n",
       "      <th>income</th>\n",
       "      <td>0.023765</td>\n",
       "      <td>0.242912</td>\n",
       "      <td>0.327948</td>\n",
       "      <td>-0.043984</td>\n",
       "      <td>0.226781</td>\n",
       "      <td>1.000000</td>\n",
       "      <td>0.113939</td>\n",
       "      <td>0.516349</td>\n",
       "      <td>-0.083651</td>\n",
       "      <td>0.038706</td>\n",
       "      <td>-0.097591</td>\n",
       "      <td>0.134525</td>\n",
       "    </tr>\n",
       "    <tr>\n",
       "      <th>ed</th>\n",
       "      <td>-0.057952</td>\n",
       "      <td>-0.109797</td>\n",
       "      <td>-0.154857</td>\n",
       "      <td>0.001400</td>\n",
       "      <td>-0.128330</td>\n",
       "      <td>0.113939</td>\n",
       "      <td>1.000000</td>\n",
       "      <td>-0.228580</td>\n",
       "      <td>-0.114229</td>\n",
       "      <td>0.006704</td>\n",
       "      <td>0.021045</td>\n",
       "      <td>0.193864</td>\n",
       "    </tr>\n",
       "    <tr>\n",
       "      <th>employ</th>\n",
       "      <td>0.016335</td>\n",
       "      <td>0.520288</td>\n",
       "      <td>0.670047</td>\n",
       "      <td>-0.002891</td>\n",
       "      <td>0.463291</td>\n",
       "      <td>0.516349</td>\n",
       "      <td>-0.228580</td>\n",
       "      <td>1.000000</td>\n",
       "      <td>0.277401</td>\n",
       "      <td>0.046016</td>\n",
       "      <td>-0.134683</td>\n",
       "      <td>0.110011</td>\n",
       "    </tr>\n",
       "    <tr>\n",
       "      <th>retire</th>\n",
       "      <td>0.005595</td>\n",
       "      <td>0.171143</td>\n",
       "      <td>0.429440</td>\n",
       "      <td>-0.078109</td>\n",
       "      <td>0.292503</td>\n",
       "      <td>-0.083651</td>\n",
       "      <td>-0.114229</td>\n",
       "      <td>0.277401</td>\n",
       "      <td>1.000000</td>\n",
       "      <td>0.053906</td>\n",
       "      <td>-0.140120</td>\n",
       "      <td>0.008908</td>\n",
       "    </tr>\n",
       "    <tr>\n",
       "      <th>gender</th>\n",
       "      <td>0.050596</td>\n",
       "      <td>0.023533</td>\n",
       "      <td>-0.011419</td>\n",
       "      <td>0.008345</td>\n",
       "      <td>0.008363</td>\n",
       "      <td>0.038706</td>\n",
       "      <td>0.006704</td>\n",
       "      <td>0.046016</td>\n",
       "      <td>0.053906</td>\n",
       "      <td>1.000000</td>\n",
       "      <td>0.016556</td>\n",
       "      <td>-0.004966</td>\n",
       "    </tr>\n",
       "    <tr>\n",
       "      <th>reside</th>\n",
       "      <td>-0.065158</td>\n",
       "      <td>-0.036592</td>\n",
       "      <td>-0.254993</td>\n",
       "      <td>0.625999</td>\n",
       "      <td>-0.201645</td>\n",
       "      <td>-0.097591</td>\n",
       "      <td>0.021045</td>\n",
       "      <td>-0.134683</td>\n",
       "      <td>-0.140120</td>\n",
       "      <td>0.016556</td>\n",
       "      <td>1.000000</td>\n",
       "      <td>0.082022</td>\n",
       "    </tr>\n",
       "    <tr>\n",
       "      <th>custcat</th>\n",
       "      <td>-0.023771</td>\n",
       "      <td>0.166691</td>\n",
       "      <td>0.056909</td>\n",
       "      <td>0.083836</td>\n",
       "      <td>0.067913</td>\n",
       "      <td>0.134525</td>\n",
       "      <td>0.193864</td>\n",
       "      <td>0.110011</td>\n",
       "      <td>0.008908</td>\n",
       "      <td>-0.004966</td>\n",
       "      <td>0.082022</td>\n",
       "      <td>1.000000</td>\n",
       "    </tr>\n",
       "  </tbody>\n",
       "</table>\n",
       "</div>"
      ],
      "text/plain": [
       "           region    tenure       age   marital   address    income        ed  \\\n",
       "region   1.000000  0.016388  0.015034 -0.080637  0.010320  0.023765 -0.057952   \n",
       "tenure   0.016388  1.000000  0.490217  0.154171  0.522952  0.242912 -0.109797   \n",
       "age      0.015034  0.490217  1.000000 -0.014433  0.660435  0.327948 -0.154857   \n",
       "marital -0.080637  0.154171 -0.014433  1.000000 -0.012051 -0.043984  0.001400   \n",
       "address  0.010320  0.522952  0.660435 -0.012051  1.000000  0.226781 -0.128330   \n",
       "income   0.023765  0.242912  0.327948 -0.043984  0.226781  1.000000  0.113939   \n",
       "ed      -0.057952 -0.109797 -0.154857  0.001400 -0.128330  0.113939  1.000000   \n",
       "employ   0.016335  0.520288  0.670047 -0.002891  0.463291  0.516349 -0.228580   \n",
       "retire   0.005595  0.171143  0.429440 -0.078109  0.292503 -0.083651 -0.114229   \n",
       "gender   0.050596  0.023533 -0.011419  0.008345  0.008363  0.038706  0.006704   \n",
       "reside  -0.065158 -0.036592 -0.254993  0.625999 -0.201645 -0.097591  0.021045   \n",
       "custcat -0.023771  0.166691  0.056909  0.083836  0.067913  0.134525  0.193864   \n",
       "\n",
       "           employ    retire    gender    reside   custcat  \n",
       "region   0.016335  0.005595  0.050596 -0.065158 -0.023771  \n",
       "tenure   0.520288  0.171143  0.023533 -0.036592  0.166691  \n",
       "age      0.670047  0.429440 -0.011419 -0.254993  0.056909  \n",
       "marital -0.002891 -0.078109  0.008345  0.625999  0.083836  \n",
       "address  0.463291  0.292503  0.008363 -0.201645  0.067913  \n",
       "income   0.516349 -0.083651  0.038706 -0.097591  0.134525  \n",
       "ed      -0.228580 -0.114229  0.006704  0.021045  0.193864  \n",
       "employ   1.000000  0.277401  0.046016 -0.134683  0.110011  \n",
       "retire   0.277401  1.000000  0.053906 -0.140120  0.008908  \n",
       "gender   0.046016  0.053906  1.000000  0.016556 -0.004966  \n",
       "reside  -0.134683 -0.140120  0.016556  1.000000  0.082022  \n",
       "custcat  0.110011  0.008908 -0.004966  0.082022  1.000000  "
      ]
     },
     "execution_count": 5,
     "metadata": {},
     "output_type": "execute_result"
    }
   ],
   "source": [
    "df.corr()"
   ]
  },
  {
   "cell_type": "code",
   "execution_count": 6,
   "metadata": {},
   "outputs": [
    {
     "data": {
      "text/plain": [
       "<matplotlib.axes._subplots.AxesSubplot at 0x25ee65259e8>"
      ]
     },
     "execution_count": 6,
     "metadata": {},
     "output_type": "execute_result"
    },
    {
     "data": {
      "image/png": "[encoded data removed]",
      "text/plain": [
       "<Figure size 432x288 with 1 Axes>"
      ]
     },
     "metadata": {
      "needs_background": "light"
     },
     "output_type": "display_data"
    }
   ],
   "source": [
    "df['custcat'].value_counts().plot.bar()"
   ]
  },
  {
   "cell_type": "code",
   "execution_count": 7,
   "metadata": {},
   "outputs": [
    {
     "data": {
      "text/plain": [
       "<matplotlib.axes._subplots.AxesSubplot at 0x25eebba9f98>"
      ]
     },
     "execution_count": 7,
     "metadata": {},
     "output_type": "execute_result"
    },
    {
     "data": {
      "image/png": "[encoded data removed]",
      "text/plain": [
       "<Figure size 1440x720 with 4 Axes>"
      ]
     },
     "metadata": {
      "needs_background": "light"
     },
     "output_type": "display_data"
    }
   ],
   "source": [
    "plt.figure(1)\n",
    "plt.subplot(221)\n",
    "df['gender'].value_counts(normalize = True).plot.bar(figsize = (20,10),title = 'Sex')\n",
    "plt.subplot(222)\n",
    "df['marital'].value_counts(normalize = True).plot.bar(figsize = (20,10),title = 'Marital')\n",
    "plt.subplot(223)\n",
    "df['region'].value_counts(normalize = True).plot.bar(figsize = (20,10),title = 'Region')\n",
    "plt.subplot(224)\n",
    "df['ed'].value_counts(normalize = True).plot.bar(figsize = (20,10),title = 'Ed')"
   ]
  },
  {
   "cell_type": "code",
   "execution_count": 8,
   "metadata": {},
   "outputs": [
    {
     "data": {
      "text/plain": [
       "<matplotlib.axes._subplots.AxesSubplot at 0x25eebae8080>"
      ]
     },
     "execution_count": 8,
     "metadata": {},
     "output_type": "execute_result"
    },
    {
     "data": {
      "image/png": "[encoded data removed]",
      "text/plain": [
       "<Figure size 432x288 with 1 Axes>"
      ]
     },
     "metadata": {
      "needs_background": "light"
     },
     "output_type": "display_data"
    }
   ],
   "source": [
    "sns.scatterplot(x = 'tenure',y = 'income',data = df)"
   ]
  },
  {
   "cell_type": "code",
   "execution_count": 9,
   "metadata": {},
   "outputs": [],
   "source": [
    "train_set = df.drop(['custcat','retire','gender','region','age'],axis = 1)\n",
    "test_set = df['custcat']"
   ]
  },
  {
   "cell_type": "code",
   "execution_count": 10,
   "metadata": {},
   "outputs": [
    {
     "data": {
      "text/html": [
       "<div>\n",
       "<style scoped>\n",
       "    .dataframe tbody tr th:only-of-type {\n",
       "        vertical-align: middle;\n",
       "    }\n",
       "\n",
       "    .dataframe tbody tr th {\n",
       "        vertical-align: top;\n",
       "    }\n",
       "\n",
       "    .dataframe thead th {\n",
       "        text-align: right;\n",
       "    }\n",
       "</style>\n",
       "<table border=\"1\" class=\"dataframe\">\n",
       "  <thead>\n",
       "    <tr style=\"text-align: right;\">\n",
       "      <th></th>\n",
       "      <th>tenure</th>\n",
       "      <th>marital</th>\n",
       "      <th>address</th>\n",
       "      <th>income</th>\n",
       "      <th>ed</th>\n",
       "      <th>employ</th>\n",
       "      <th>reside</th>\n",
       "    </tr>\n",
       "  </thead>\n",
       "  <tbody>\n",
       "    <tr>\n",
       "      <th>0</th>\n",
       "      <td>13</td>\n",
       "      <td>1</td>\n",
       "      <td>9</td>\n",
       "      <td>64.0</td>\n",
       "      <td>4</td>\n",
       "      <td>5</td>\n",
       "      <td>2</td>\n",
       "    </tr>\n",
       "    <tr>\n",
       "      <th>1</th>\n",
       "      <td>11</td>\n",
       "      <td>1</td>\n",
       "      <td>7</td>\n",
       "      <td>136.0</td>\n",
       "      <td>5</td>\n",
       "      <td>5</td>\n",
       "      <td>6</td>\n",
       "    </tr>\n",
       "    <tr>\n",
       "      <th>2</th>\n",
       "      <td>68</td>\n",
       "      <td>1</td>\n",
       "      <td>24</td>\n",
       "      <td>116.0</td>\n",
       "      <td>1</td>\n",
       "      <td>29</td>\n",
       "      <td>2</td>\n",
       "    </tr>\n",
       "    <tr>\n",
       "      <th>3</th>\n",
       "      <td>33</td>\n",
       "      <td>0</td>\n",
       "      <td>12</td>\n",
       "      <td>33.0</td>\n",
       "      <td>2</td>\n",
       "      <td>0</td>\n",
       "      <td>1</td>\n",
       "    </tr>\n",
       "    <tr>\n",
       "      <th>4</th>\n",
       "      <td>23</td>\n",
       "      <td>1</td>\n",
       "      <td>9</td>\n",
       "      <td>30.0</td>\n",
       "      <td>1</td>\n",
       "      <td>2</td>\n",
       "      <td>4</td>\n",
       "    </tr>\n",
       "  </tbody>\n",
       "</table>\n",
       "</div>"
      ],
      "text/plain": [
       "   tenure  marital  address  income  ed  employ  reside\n",
       "0      13        1        9    64.0   4       5       2\n",
       "1      11        1        7   136.0   5       5       6\n",
       "2      68        1       24   116.0   1      29       2\n",
       "3      33        0       12    33.0   2       0       1\n",
       "4      23        1        9    30.0   1       2       4"
      ]
     },
     "execution_count": 10,
     "metadata": {},
     "output_type": "execute_result"
    }
   ],
   "source": [
    "train_set.head()"
   ]
  },
  {
   "cell_type": "code",
   "execution_count": 11,
   "metadata": {},
   "outputs": [],
   "source": [
    "train_set = StandardScaler().fit(train_set).transform(train_set.astype(float))"
   ]
  },
  {
   "cell_type": "code",
   "execution_count": 12,
   "metadata": {},
   "outputs": [
    {
     "data": {
      "text/plain": [
       "array([[-1.055125  ,  1.0100505 , -0.25303431, ...,  1.0877526 ,\n",
       "        -0.5941226 , -0.23065004],\n",
       "       [-1.14880563,  1.0100505 , -0.4514148 , ...,  1.9062271 ,\n",
       "        -0.5941226 ,  2.55666158],\n",
       "       [ 1.52109247,  1.0100505 ,  1.23481934, ..., -1.36767088,\n",
       "         1.78752803, -0.23065004],\n",
       "       ...,\n",
       "       [ 1.47425216, -0.9900495 ,  2.82186323, ...,  1.9062271 ,\n",
       "         2.18446981, -0.92747794],\n",
       "       [ 1.61477311, -0.9900495 ,  0.63967788, ..., -0.54919639,\n",
       "         1.09287993, -0.92747794],\n",
       "       [ 0.67796676,  1.0100505 , -0.4514148 , ...,  0.26927811,\n",
       "        -0.79259348,  0.46617787]])"
      ]
     },
     "execution_count": 12,
     "metadata": {},
     "output_type": "execute_result"
    }
   ],
   "source": [
    "train_set"
   ]
  },
  {
   "cell_type": "code",
   "execution_count": 13,
   "metadata": {},
   "outputs": [],
   "source": [
    "x_train, x_test, y_train, y_test = train_test_split(train_set,test_set,test_size = 0.2, random_state = 2)"
   ]
  },
  {
   "cell_type": "code",
   "execution_count": 14,
   "metadata": {},
   "outputs": [
    {
     "data": {
      "text/plain": [
       "((800, 7), (800,), (200, 7), (200,))"
      ]
     },
     "execution_count": 14,
     "metadata": {},
     "output_type": "execute_result"
    }
   ],
   "source": [
    "x_train.shape, y_train.shape, x_test.shape, y_test.shape"
   ]
  },
  {
   "cell_type": "code",
   "execution_count": 15,
   "metadata": {},
   "outputs": [
    {
     "data": {
      "text/plain": [
       "KNeighborsClassifier(algorithm='auto', leaf_size=30, metric='minkowski',\n",
       "                     metric_params=None, n_jobs=None, n_neighbors=4, p=2,\n",
       "                     weights='uniform')"
      ]
     },
     "execution_count": 15,
     "metadata": {},
     "output_type": "execute_result"
    }
   ],
   "source": [
    "model = KNeighborsClassifier(n_neighbors = 4)\n",
    "model.fit(x_train, y_train)\n"
   ]
  },
  {
   "cell_type": "code",
   "execution_count": 16,
   "metadata": {},
   "outputs": [],
   "source": [
    "y_pred = model.predict(x_test)"
   ]
  },
  {
   "cell_type": "code",
   "execution_count": 17,
   "metadata": {},
   "outputs": [
    {
     "data": {
      "text/plain": [
       "0.31"
      ]
     },
     "execution_count": 17,
     "metadata": {},
     "output_type": "execute_result"
    }
   ],
   "source": [
    "score = accuracy_score(y_test, y_pred)\n",
    "score"
   ]
  },
  {
   "cell_type": "code",
   "execution_count": 31,
   "metadata": {},
   "outputs": [
    {
     "name": "stdout",
     "output_type": "stream",
     "text": [
      "mean_accuracy is : [0.29  0.28  0.305 0.31  0.3   0.305 0.28  0.29  0.27 ]\n",
      "std_accuracy is : [0.03208582 0.03174902 0.03255572 0.03270321 0.0324037  0.03255572\n",
      " 0.03174902 0.03208582 0.03139267]\n"
     ]
    }
   ],
   "source": [
    "k = 10\n",
    "mean_acc = np.zeros((k-1))\n",
    "std_acc = np.zeros((k-1))\n",
    "confusion_matrrix = []\n",
    "\n",
    "for i in range(1,k):\n",
    "    model = KNeighborsClassifier(n_neighbors = i).fit(x_train,y_train)\n",
    "    y_predict = model.predict(x_test)\n",
    "    mean_acc[i-1] = accuracy_score(y_test, y_predict)\n",
    "    std_acc[i-1] = np.std(y_predict==y_test)/np.sqrt(y_predict.shape[0])\n",
    "print(f\"mean_accuracy is : {mean_acc}\\nstd_accuracy is : {std_acc}\")"
   ]
  },
  {
   "cell_type": "code",
   "execution_count": 37,
   "metadata": {},
   "outputs": [
    {
     "data": {
      "image/png": "[encoded data removed]",
      "text/plain": [
       "<Figure size 432x288 with 1 Axes>"
      ]
     },
     "metadata": {
      "needs_background": "light"
     },
     "output_type": "display_data"
    }
   ],
   "source": [
    "plt.plot(range(1,k),mean_acc, 'g')\n",
    "plt.fill_between(range(1,k),mean_acc-1*std_acc,mean_acc+1*std_acc, alpha = 0.3)\n",
    "plt.legend('Accuracy')\n",
    "plt.ylabel('accuracy')\n",
    "plt.xlabel('number of neighbors')\n",
    "plt.show()"
   ]
  },
  {
   "cell_type": "code",
   "execution_count": null,
   "metadata": {},
   "outputs": [],
   "source": []
  }
 ],
 "metadata": {
  "kernelspec": {
   "display_name": "Python 3",
   "language": "python",
   "name": "python3"
  },
  "language_info": {
   "codemirror_mode": {
    "name": "ipython",
    "version": 3
   },
   "file_extension": ".py",
   "mimetype": "text/x-python",
   "name": "python",
   "nbconvert_exporter": "python",
   "pygments_lexer": "ipython3",
   "version": "3.7.3"
  }
 },
 "nbformat": 4,
 "nbformat_minor": 2
}
